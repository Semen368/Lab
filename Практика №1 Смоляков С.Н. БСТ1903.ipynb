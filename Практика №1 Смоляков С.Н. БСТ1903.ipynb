{
 "cells": [
  {
   "cell_type": "markdown",
   "id": "solved-rebel",
   "metadata": {},
   "source": [
    "# Задачи №1 \n"
   ]
  },
  {
   "cell_type": "markdown",
   "id": "alternate-bolivia",
   "metadata": {},
   "source": [
    "## Смоляков Семен Николаевич БСТ1903\n"
   ]
  },
  {
   "cell_type": "markdown",
   "id": "checked-cotton",
   "metadata": {},
   "source": [
    "### Задача №1"
   ]
  },
  {
   "cell_type": "code",
   "execution_count": 1,
   "id": "dirty-punch",
   "metadata": {},
   "outputs": [],
   "source": [
    "\n",
    "import numpy"
   ]
  },
  {
   "cell_type": "code",
   "execution_count": 2,
   "id": "directed-harassment",
   "metadata": {},
   "outputs": [],
   "source": [
    "def matrixgenerate():\n",
    "    n=int(input())\n",
    "    massiv = numpy.random.random_integers(0, 20, size=(n))\n",
    "    massiv=sorted(massiv, reverse=True)\n",
    "    for i, j in enumerate(massiv):\n",
    "        print(\"massiv[\", i, \"]=\", j)\n",
    "    return massiv"
   ]
  },
  {
   "cell_type": "code",
   "execution_count": 3,
   "id": "anonymous-female",
   "metadata": {},
   "outputs": [],
   "source": [
    "def perimetr(massiv):\n",
    "    P=0\n",
    "    \n",
    "    for i in range(len(massiv)-2):\n",
    "        if massiv[i]<massiv[i+1]+massiv[i+2]:\n",
    "            return massiv[i]+massiv[i+1]+massiv[i+2]"
   ]
  },
  {
   "cell_type": "code",
   "execution_count": 4,
   "id": "eastern-master",
   "metadata": {},
   "outputs": [
    {
     "name": "stdout",
     "output_type": "stream",
     "text": [
      "2\n",
      "massiv[ 0 ]= 15\n",
      "massiv[ 1 ]= 11\n",
      "None\n"
     ]
    },
    {
     "name": "stderr",
     "output_type": "stream",
     "text": [
      "<ipython-input-2-199a445f327c>:3: DeprecationWarning: This function is deprecated. Please call randint(0, 20 + 1) instead\n",
      "  massiv = numpy.random.random_integers(0, 20, size=(n))\n"
     ]
    }
   ],
   "source": [
    "massiv=matrixgenerate()\n",
    "# leng=int(input())\n",
    "# massiv=[0]*leng\n",
    "# for i in range(len(massiv)):\n",
    "#    massiv[i]=int(input())\n",
    "# sorted(massiv)\n",
    "# for i, j in enumerate(massiv):\n",
    "#    print(\"massiv[\", i, \"]=\", j)\n",
    "P=perimetr(massiv)\n",
    "print(P)"
   ]
  },
  {
   "cell_type": "markdown",
   "id": "monetary-perfume",
   "metadata": {},
   "source": [
    "### Задача №2"
   ]
  },
  {
   "cell_type": "code",
   "execution_count": 5,
   "id": "actual-smell",
   "metadata": {},
   "outputs": [
    {
     "name": "stdout",
     "output_type": "stream",
     "text": [
      " 971 9714 9714\n",
      " 9999911 91\n",
      " 8 6 40 24 10\n"
     ]
    }
   ],
   "source": [
    "def check(a,b):\n",
    "    one=str(a)+str(b)\n",
    "    two=str(b)+str(a)\n",
    "    if int(one)>int(two):\n",
    "        return True\n",
    "    else:\n",
    "        return False\n",
    "    \n",
    "def shell(massline):\n",
    "    length=len(massline)\n",
    "    l=length\n",
    "    while l>0:\n",
    "        for i in range(length-l):\n",
    "            j=i\n",
    "            while j>=0 and check(massline[j+l], massline[j]):\n",
    "                massline[j], massline[j+l]=massline[j+l], massline[j]\n",
    "                j=j-l\n",
    "        l=int(l/2)\n",
    "    strr=\"\"\n",
    "    for i in range(len(massline)):\n",
    "        strr=strr+\" \"+str(massline[i])\n",
    "    return strr\n",
    "\n",
    "mas1=[9714,9714,971]\n",
    "mas2=[9999911,91]\n",
    "mas3=[8,40,24,6,10]\n",
    "print(shell(mas1))\n",
    "print(shell(mas2))\n",
    "print(shell(mas3))"
   ]
  },
  {
   "cell_type": "markdown",
   "id": "owned-adams",
   "metadata": {},
   "source": [
    "### Задача №3"
   ]
  },
  {
   "cell_type": "code",
   "execution_count": 6,
   "id": "coordinate-moscow",
   "metadata": {},
   "outputs": [],
   "source": [
    "import numpy"
   ]
  },
  {
   "cell_type": "code",
   "execution_count": 7,
   "id": "everyday-compatibility",
   "metadata": {},
   "outputs": [
    {
     "name": "stdout",
     "output_type": "stream",
     "text": [
      "Введите m и n:1\n"
     ]
    },
    {
     "ename": "ValueError",
     "evalue": "not enough values to unpack (expected 2, got 1)",
     "output_type": "error",
     "traceback": [
      "\u001b[1;31m---------------------------------------------------------------------------\u001b[0m",
      "\u001b[1;31mValueError\u001b[0m                                Traceback (most recent call last)",
      "\u001b[1;32m<ipython-input-7-ec6d2022ab5b>\u001b[0m in \u001b[0;36m<module>\u001b[1;34m\u001b[0m\n\u001b[1;32m----> 1\u001b[1;33m \u001b[0mm\u001b[0m\u001b[1;33m,\u001b[0m \u001b[0mn\u001b[0m\u001b[1;33m=\u001b[0m \u001b[0mmap\u001b[0m\u001b[1;33m(\u001b[0m\u001b[0mint\u001b[0m\u001b[1;33m,\u001b[0m \u001b[0minput\u001b[0m\u001b[1;33m(\u001b[0m\u001b[1;34m'Введите m и n:'\u001b[0m\u001b[1;33m)\u001b[0m\u001b[1;33m.\u001b[0m\u001b[0msplit\u001b[0m\u001b[1;33m(\u001b[0m\u001b[1;34m' '\u001b[0m\u001b[1;33m)\u001b[0m\u001b[1;33m)\u001b[0m\u001b[1;33m\u001b[0m\u001b[1;33m\u001b[0m\u001b[0m\n\u001b[0m\u001b[0;32m      2\u001b[0m \u001b[0mmassiv\u001b[0m \u001b[1;33m=\u001b[0m \u001b[0mnumpy\u001b[0m\u001b[1;33m.\u001b[0m\u001b[0mrandom\u001b[0m\u001b[1;33m.\u001b[0m\u001b[0mrandom_integers\u001b[0m\u001b[1;33m(\u001b[0m\u001b[1;36m0\u001b[0m\u001b[1;33m,\u001b[0m \u001b[1;36m20\u001b[0m\u001b[1;33m,\u001b[0m \u001b[0msize\u001b[0m\u001b[1;33m=\u001b[0m\u001b[1;33m(\u001b[0m\u001b[0mm\u001b[0m\u001b[1;33m,\u001b[0m \u001b[0mn\u001b[0m\u001b[1;33m)\u001b[0m\u001b[1;33m)\u001b[0m\u001b[1;33m\u001b[0m\u001b[1;33m\u001b[0m\u001b[0m\n\u001b[0;32m      3\u001b[0m \u001b[0mprint\u001b[0m\u001b[1;33m(\u001b[0m\u001b[0mmassiv\u001b[0m\u001b[1;33m)\u001b[0m\u001b[1;33m\u001b[0m\u001b[1;33m\u001b[0m\u001b[0m\n\u001b[0;32m      4\u001b[0m \u001b[1;32mfor\u001b[0m \u001b[0mi\u001b[0m \u001b[1;32min\u001b[0m \u001b[0mrange\u001b[0m\u001b[1;33m(\u001b[0m\u001b[1;36m0\u001b[0m\u001b[1;33m,\u001b[0m\u001b[0mm\u001b[0m\u001b[1;33m)\u001b[0m\u001b[1;33m:\u001b[0m\u001b[1;33m\u001b[0m\u001b[1;33m\u001b[0m\u001b[0m\n\u001b[0;32m      5\u001b[0m     \u001b[1;32mfor\u001b[0m \u001b[0mj\u001b[0m \u001b[1;32min\u001b[0m \u001b[0mrange\u001b[0m\u001b[1;33m(\u001b[0m\u001b[1;36m0\u001b[0m\u001b[1;33m,\u001b[0m\u001b[0mn\u001b[0m\u001b[1;33m)\u001b[0m\u001b[1;33m:\u001b[0m\u001b[1;33m\u001b[0m\u001b[1;33m\u001b[0m\u001b[0m\n",
      "\u001b[1;31mValueError\u001b[0m: not enough values to unpack (expected 2, got 1)"
     ]
    }
   ],
   "source": [
    "m, n= map(int, input('Введите m и n:').split(' '))\n",
    "massiv = numpy.random.random_integers(0, 20, size=(m, n))\n",
    "print(massiv)\n",
    "for i in range(0,m):\n",
    "    for j in range(0,n):\n",
    "        l=j\n",
    "        k=i\n",
    "        while k<m and l<n:\n",
    "            if massiv[i][j]>massiv[k][l]:\n",
    "                print (\"заменяет \" , massiv[k][l] ,\" на \" , massiv[i][j] )\n",
    "                massiv[i][j], massiv[k][l]=massiv[k][l], massiv[i][j]\n",
    "            k=k+1\n",
    "            l=l+1\n",
    "print(\"\\n\")\n",
    "print(massiv)"
   ]
  },
  {
   "cell_type": "code",
   "execution_count": null,
   "id": "accurate-bradley",
   "metadata": {},
   "outputs": [],
   "source": []
  }
 ],
 "metadata": {
  "kernelspec": {
   "display_name": "Python 3",
   "language": "python",
   "name": "python3"
  },
  "language_info": {
   "codemirror_mode": {
    "name": "ipython",
    "version": 3
   },
   "file_extension": ".py",
   "mimetype": "text/x-python",
   "name": "python",
   "nbconvert_exporter": "python",
   "pygments_lexer": "ipython3",
   "version": "3.9.1"
  }
 },
 "nbformat": 4,
 "nbformat_minor": 5
}
