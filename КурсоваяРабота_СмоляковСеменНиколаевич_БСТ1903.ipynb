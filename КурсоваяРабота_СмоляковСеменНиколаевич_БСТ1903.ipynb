{
 "cells": [
  {
   "cell_type": "markdown",
   "id": "occupied-custody",
   "metadata": {},
   "source": [
    "# Курсовая работа по дисциплине СиАОД №1\n",
    "# Выполнил студент группы БСТ1903 Смоляков Семен"
   ]
  },
  {
   "cell_type": "markdown",
   "id": "gross-pulse",
   "metadata": {},
   "source": [
    "## Задача 1\n",
    "«Треугольник с максимальным периметром»\n",
    "\n",
    "Массив A состоит из целых положительных чисел - длин отрезков. Составьте из трех отрезков такой треугольник, чтобы его периметр был максимально возможным. Если невозможно составить треугольник с положительной площадью - функция возвращает 0."
   ]
  },
  {
   "cell_type": "code",
   "execution_count": 3,
   "id": "passive-custom",
   "metadata": {},
   "outputs": [
    {
     "name": "stdout",
     "output_type": "stream",
     "text": [
      "Введите длину массива5\n",
      "11\n",
      "4\n",
      "29\n",
      "1\n",
      "8\n",
      "[29, 11, 8, 4, 1]\n",
      "Периметр= 23\n"
     ]
    }
   ],
   "source": [
    "#Находжение периметра\n",
    "def Perimetr (a, b, c):\n",
    "    if (a+b)>c and (a+c)>b and (b+c)>a:\n",
    "        return int(a+b+c)\n",
    "    else:\n",
    "        return 0\n",
    "#\n",
    "length=int(input('Введите длину массива'))\n",
    "mas=[]\n",
    "for i in range(length):\n",
    "    mas.append(int(input()))\n",
    "mas=sorted(mas, reverse=True)\n",
    "print(mas)\n",
    "for i in range(len(mas)-2):\n",
    "    if Perimetr(mas[i], mas[i+1], mas[i+2])>0:\n",
    "        print(\"Периметр=\", Perimetr(mas[i], mas[i+1], mas[i+2]))\n",
    "        break"
   ]
  },
  {
   "cell_type": "markdown",
   "id": "detected-cutting",
   "metadata": {},
   "source": [
    "## Задача 2\n",
    "«Максимальное число»\n",
    "\n",
    "Дан массив неотрицательных целых чисел nums. Расположите их в таком порядке, чтобы вместе они образовали максимально возможное число."
   ]
  },
  {
   "cell_type": "code",
   "execution_count": 2,
   "id": "patient-blank",
   "metadata": {},
   "outputs": [
    {
     "name": "stdout",
     "output_type": "stream",
     "text": [
      " 8308 8308 830\n",
      " 9 99991\n",
      " 9 5 34 3 30\n"
     ]
    }
   ],
   "source": [
    "def check(a,b):\n",
    "    one=str(a)+str(b)\n",
    "    two=str(b)+str(a)\n",
    "    if int(one)>int(two):\n",
    "        return True\n",
    "    else:\n",
    "        return False\n",
    "    \n",
    "def shell(massline):\n",
    "    length=len(massline)\n",
    "    l=length\n",
    "    while l>0:\n",
    "        for i in range(length-l):\n",
    "            j=i\n",
    "            while j>=0 and check(massline[j+l], massline[j]):\n",
    "                massline[j], massline[j+l]=massline[j+l], massline[j]\n",
    "                j=j-l\n",
    "        l=int(l/2)\n",
    "    strr=\"\"\n",
    "    for i in range(len(massline)):\n",
    "        strr=strr+\" \"+str(massline[i])\n",
    "    return strr\n",
    "\n",
    "mas1=[8308,8308,830]\n",
    "mas2=[99991,9]\n",
    "mas3=[3,30,34,5,9]\n",
    "print(shell(mas1))\n",
    "print(shell(mas2))\n",
    "print(shell(mas3))"
   ]
  },
  {
   "cell_type": "markdown",
   "id": "illegal-junior",
   "metadata": {},
   "source": [
    "## Задача 3\n",
    "«Сортировка диагоналей в матрице»\n",
    "\n",
    "Дана матрица mat размером m * n, значения - целочисленные. Напишите функцию, сортирующую каждую диагональ матрицы по возрастанию и возвращающую получившуюся матрицу"
   ]
  },
  {
   "cell_type": "code",
   "execution_count": 5,
   "id": "greenhouse-mandate",
   "metadata": {},
   "outputs": [
    {
     "name": "stdout",
     "output_type": "stream",
     "text": [
      "Введите m и n:2 5\n",
      "[[14 16 17 11  4]\n",
      " [16 19  9  9  3]]\n",
      "\n",
      "\n",
      "\n",
      "[[14  9 17 11  4]\n",
      " [16 19 16  9  3]]\n"
     ]
    },
    {
     "name": "stderr",
     "output_type": "stream",
     "text": [
      "<ipython-input-5-401fb204b888>:7: DeprecationWarning: This function is deprecated. Please call randint(0, 20 + 1) instead\n",
      "  massiv = numpy.random.random_integers(0, 20, size=(m, n))\n"
     ]
    }
   ],
   "source": [
    "import numpy\n",
    "def per_mas(n, m):\n",
    "    for i in range(n):\n",
    "        for j in range(m):\n",
    "            yield i, j\n",
    "m, n= map(int, input('Введите m и n:').split(' '))\n",
    "massiv = numpy.random.random_integers(0, 20, size=(m, n))\n",
    "print(massiv)\n",
    "for i, j in per_mas(len(massiv[0]), len(massiv)):\n",
    "    k=j\n",
    "    l=i\n",
    "    while k<len(massiv[0]) and l<len(massiv):\n",
    "        if massiv[i][j]>massiv[l][k]:\n",
    "            massiv[i][j], massiv[l][k]=massiv[l][k], massiv[i][j]\n",
    "        k=k+1\n",
    "        l=l+1\n",
    "            \n",
    "print(\"\\n\\n\")\n",
    "print(massiv)"
   ]
  },
  {
   "cell_type": "markdown",
   "id": "seven-chart",
   "metadata": {},
   "source": [
    "## Задача 4\n",
    "«Шарики и стрелы»\n",
    "\n",
    "Некоторые сферические шарики распределены по двухмерному пространству. Для каждого шарика даны xкоординаты начала и конца его горизонтального диаметра. Так как пространство двумерно, то yкоординаты не имеют значения в данной задаче. Координата xstart всегда меньше xend. Стрелу можно выстрелить строго вертикально (вдоль yоси) из разных точек xоси. Шарик с координатами xstart и xend уничтожается стрелой, если она была выпущена из такой позиции x, что xstart ⩽ x ⩽ xend. Когда стрела выпущена, она летит в пространстве бесконечное время (уничтожая все шарики на пути). Дан массив points, где points[i] = [xstart, xend]. Напишите функцию, возвращающую минимальное количество стрел, которые нужно выпустить, чтобы уничтожить все шарики."
   ]
  },
  {
   "cell_type": "code",
   "execution_count": 6,
   "id": "organic-means",
   "metadata": {},
   "outputs": [
    {
     "name": "stdout",
     "output_type": "stream",
     "text": [
      "[[1, 10], [3, 9], [4, 11], [6, 7], [6, 9], [8, 12], [9, 12]]\n",
      "2\n"
     ]
    }
   ],
   "source": [
    "class sh:\n",
    "    def __init__(self, mass):\n",
    "        self.mass=mass\n",
    "        self.count=1\n",
    "    \n",
    "    def search(self):\n",
    "        if len(self.mass)==0:\n",
    "            self.count=0\n",
    "        else:\n",
    "            m=0\n",
    "            for i in range(len(self.mass)):\n",
    "                self.mass.sort()\n",
    "            print(self.mass)\n",
    "            for i in range(len(self.mass)-1):\n",
    "                if self.mass[m][1]<self.mass[i+1][0]:\n",
    "                    self.count=self.count+1\n",
    "                    m=i+1\n",
    "                elif self.mass[m][0]<=self.mass[i+1][0] and self.mass[m][1]>=self.mass[i+1][1]:\n",
    "                       m=i+1\n",
    "                    \n",
    "        return self.count\n",
    "            \n",
    "mass=[[9,12],[1,10],[4,11],[8,12],[3,9],[6,9],[6,7]]           \n",
    "a=sh(mass)\n",
    "print(a.search())"
   ]
  },
  {
   "cell_type": "markdown",
   "id": "nuclear-slovenia",
   "metadata": {},
   "source": [
    "## Задача 5\n",
    "«Стопки монет»\n",
    "\n",
    "На столе стоят 3n стопок монет. Вы и ваши друзья Алиса и Боб забираете стопки монет по следующему алгоритму:\n",
    "\n",
    "Вы выбираете 3 стопки монет из оставшихся на столе. Алиса забирает себе стопку с максимальным количеством монет. Вы забираете одну из двух оставшихся стопок. Боб забирает последнюю стопку. Если еще остались стопки, то действия повторяются с первого шага. Дан массив целых положительных чисел piles. Напишите функцию, возвращающую максимальное число монет, которое вы можете получить."
   ]
  },
  {
   "cell_type": "code",
   "execution_count": 7,
   "id": "other-teacher",
   "metadata": {},
   "outputs": [
    {
     "data": {
      "text/plain": [
       "18"
      ]
     },
     "execution_count": 7,
     "metadata": {},
     "output_type": "execute_result"
    }
   ],
   "source": [
    "def moneti(arr):\n",
    "    arr.sort()\n",
    "    a=len(arr)//3\n",
    "    s=0\n",
    "    while a<len(arr):\n",
    "        s=s+arr[a]\n",
    "        a=a+2\n",
    "    return (s)\n",
    "\n",
    "moneti ( [9,8,7,6,5,1,2,3,4])"
   ]
  },
  {
   "cell_type": "markdown",
   "id": "apart-tours",
   "metadata": {},
   "source": [
    "## Задача 6\n",
    "«Объединение отрезков» Дан массив отрезков intervals, в котором intervals[i] = [start_i, end_i], некоторые отрезки могут пересекаться. Напишите функцию, которая объединяет все пересекающиеся отрезки в один и возвращает новый массив непересекающихся отрезков."
   ]
  },
  {
   "cell_type": "code",
   "execution_count": 8,
   "id": "quick-belarus",
   "metadata": {},
   "outputs": [
    {
     "data": {
      "text/plain": [
       "[[1, 5]]"
      ]
     },
     "execution_count": 8,
     "metadata": {},
     "output_type": "execute_result"
    }
   ],
   "source": [
    "def comb_otr(interv):\n",
    "    interv.sort()\n",
    "    i=0\n",
    "    while i <len(interv)-1:\n",
    "        if interv[i][1]>=interv[i+1][0]:\n",
    "            a=interv.pop(0)\n",
    "            b=interv.pop(0)\n",
    "            interv.insert(0, [a[0],b[1]])\n",
    "        else:\n",
    "            i+=1            \n",
    "    return interv\n",
    "\n",
    "comb_otr( [[1,4],[4,5]])"
   ]
  },
  {
   "cell_type": "markdown",
   "id": "bronze-standard",
   "metadata": {},
   "source": [
    "## ЗАДАЧА 7\n",
    "Даны две строки: s1 и s2 с одинаковым размером, проверьте, может ли некоторая перестановка строки s1 “победить” некоторую перестановку строки s2 или наоборот. Строка x может “победить” строку y (обе имеют размер n), если x[i]> = y [i] (в алфавитном порядке) для всех i от 0 до n-1."
   ]
  },
  {
   "cell_type": "code",
   "execution_count": 19,
   "id": "brilliant-interest",
   "metadata": {},
   "outputs": [
    {
     "data": {
      "text/plain": [
       "True"
      ]
     },
     "execution_count": 19,
     "metadata": {},
     "output_type": "execute_result"
    }
   ],
   "source": [
    "def zadacha_7(str1, str2):\n",
    "    if len(str1)!=len(str2):\n",
    "        return False\n",
    "    st1=list(str1)\n",
    "    st2=list(str2)\n",
    "    l=len(st1)\n",
    "    st1.sort()\n",
    "    st2.sort()\n",
    "    i=0\n",
    "    while i<l and st1[i]==st2[i]:\n",
    "        i+=1\n",
    "    if i == l:\n",
    "        return True\n",
    "    if st1[i]>st2[i]:\n",
    "        for k in range(len(st1)):\n",
    "            if(st1[k]<st2[k]):\n",
    "                return False\n",
    "        return True\n",
    "    else:\n",
    "        for k in range(len(st2)):\n",
    "            if(st2[k]<st1[k]):\n",
    "                return False\n",
    "        return True\n",
    "            \n",
    "    \n",
    "zadacha_7('bfe','acf')"
   ]
  },
  {
   "cell_type": "markdown",
   "id": "otherwise-insulation",
   "metadata": {},
   "source": [
    "## ЗАДАЧА 8\n",
    "Дана строка s, вернуть самую длинную полиндромную подстроку в s."
   ]
  },
  {
   "cell_type": "code",
   "execution_count": 13,
   "id": "rocky-terrain",
   "metadata": {},
   "outputs": [
    {
     "name": "stdout",
     "output_type": "stream",
     "text": [
      "оо\n",
      "0.000580800000079762\n"
     ]
    }
   ],
   "source": [
    "def palindrome(str1):\n",
    "    maxstr=''\n",
    "    for i in range(len(str1)-1):\n",
    "        for j in range(i+1, len(str1)):\n",
    "            if str1[i:j+1]==str1[i:j+1][::-1] and len(maxstr)<len(str1[i:j+1]):\n",
    "                maxstr=str1[i:j+1]\n",
    "    return maxstr\n",
    "\n",
    "timerStart = time.perf_counter()             \n",
    "print(palindrome(\"капроодкапоннj\"))\n",
    "timerEnd = time.perf_counter()\n",
    "timer1 = timerEnd - timerStart\n",
    "print(timer1)"
   ]
  },
  {
   "cell_type": "markdown",
   "id": "sapphire-sigma",
   "metadata": {},
   "source": [
    "## ЗАДАЧА 9\n",
    "Вернуть количество отдельных непустых подстрок текста, которые могут быть записаны как конкатенация некоторой строки с самой собой (т.е. она может быть записана, как a + a, где a - некоторая строка)."
   ]
  },
  {
   "cell_type": "code",
   "execution_count": 14,
   "id": "tested-simon",
   "metadata": {},
   "outputs": [
    {
     "name": "stdout",
     "output_type": "stream",
     "text": [
      "д д\n",
      "({'дд'}, 1)\n",
      "0.0005919999999832726\n"
     ]
    }
   ],
   "source": [
    "import time\n",
    "def len_podstr(str1):\n",
    "    rez=set()\n",
    "    for i in range(len(str1)-1):\n",
    "        k=i\n",
    "        for j in range(i+1, len(str1)):\n",
    "            #print(str1[i:j],str1[j:j+(j-i)])\n",
    "            if j+(j-i)+1<len(str1) and str1[i:j]==str1[j:j+(j-i)]:\n",
    "                print(str1[i:j],str1[j:j+(j-i)])\n",
    "                rez.add(str1[i:j+(j-i)])\n",
    "                         \n",
    "    return rez, len(rez)\n",
    "\n",
    "timerStart = time.perf_counter() \n",
    "print (len_podstr(\"абвгддгвполомткотокшру\") )\n",
    "timerEnd = time.perf_counter()\n",
    "timer1 = timerEnd - timerStart\n",
    "print(timer1)"
   ]
  },
  {
   "cell_type": "markdown",
   "id": "precious-fruit",
   "metadata": {},
   "source": [
    "## Вывод:\n",
    "В ходе проделанной работы были выполнены задачи на нахождение максимального периметра, максимального числа, сортировки диагоналей, 3 задачи по работе со строками, монетки, интервалы а также шарики и стрелы"
   ]
  },
  {
   "cell_type": "code",
   "execution_count": null,
   "id": "saving-money",
   "metadata": {},
   "outputs": [],
   "source": []
  }
 ],
 "metadata": {
  "kernelspec": {
   "display_name": "Python 3",
   "language": "python",
   "name": "python3"
  },
  "language_info": {
   "codemirror_mode": {
    "name": "ipython",
    "version": 3
   },
   "file_extension": ".py",
   "mimetype": "text/x-python",
   "name": "python",
   "nbconvert_exporter": "python",
   "pygments_lexer": "ipython3",
   "version": "3.9.1"
  }
 },
 "nbformat": 4,
 "nbformat_minor": 5
}
